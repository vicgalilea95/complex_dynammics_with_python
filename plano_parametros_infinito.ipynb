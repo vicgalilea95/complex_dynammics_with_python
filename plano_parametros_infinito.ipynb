{
 "cells": [
  {
   "cell_type": "code",
   "execution_count": 20,
   "id": "c4b94bde",
   "metadata": {},
   "outputs": [],
   "source": [
    "import numpy as np\n",
    "from matplotlib import pyplot as plt\n",
    "import matplotlib.pyplot as plt\n",
    "import matplotlib as mpl\n",
    "import json as json"
   ]
  },
  {
   "cell_type": "code",
   "execution_count": 19,
   "id": "1ab2f329",
   "metadata": {},
   "outputs": [],
   "source": [
    "t_z = lambda z : (3+z**4-4*k*(z+z**3)+2*k**2*(z**2+z**4))/(k+4*z+k*z**2*(-10+4*k*z+z**2))"
   ]
  },
  {
   "cell_type": "code",
   "execution_count": 30,
   "id": "3ffa955d",
   "metadata": {},
   "outputs": [],
   "source": [
    "config={}\n",
    "config['n_pixels']=3**5\n",
    "config['x_min']=-0.005\n",
    "config['x_max']=0.005\n",
    "config['y_min']=-20.005\n",
    "config['y_max']=-19.995\n",
    "# config['y_min']=-10\n",
    "# config['y_max']=10\n",
    "config['nombre_archivo']='plano_infinito_SCH.png'\n",
    "config['colors'] = ['magenta','cyan', 'yellow']\n",
    "config['funcion_iteracion']='(-k**3-4*k**2*z-4*k*z**2-6*k**2*z**2-16*k*z**3+12*k**2*z**3-4*z**4+3*k*z**4)/(-2*k**2+3*k**3-8*k*z+12*k**2*z-8*z**2+6*k*z**2-16*z**3+12*k*z**3-12*z**4+9*k*z**4)'\n",
    "\n",
    "cmap = mpl.colors.ListedColormap(colors=config['colors'])\n"
   ]
  },
  {
   "cell_type": "code",
   "execution_count": 14,
   "id": "10c97039",
   "metadata": {},
   "outputs": [],
   "source": [
    "def plan_params_oo(config, path_picture='params_oo.jpg'):\n",
    "    xreal = np.linspace(int(config['x_min']), int(config['x_max']),int(config['n_pixels']))\n",
    "    ximag = np.linspace(config['y_min'], config['y_max'],int(config['n_pixels']))\n",
    "    Xreal, Ximag = np.meshgrid(xreal, ximag)\n",
    "    X= Xreal+1j*Ximag #1j es la componente imaginaria en Numpy\n",
    "\n",
    "    tolerance = 0.0001\n",
    "\n",
    "    max_iter=100\n",
    "\n",
    "    f_iter = t_z\n",
    "    result_l=list()\n",
    "    for fila in X:\n",
    "        fila_r=list()\n",
    "        for elemento in fila:\n",
    "            k=elemento\n",
    "            i=0\n",
    "            z_0=0\n",
    "            r_e=1\n",
    "            for i in range(max_iter):\n",
    "                z_0=f_iter(z_0)\n",
    "                if (np.abs(z_0-1)<tolerance):\n",
    "                    r_e=0\n",
    "                    break\n",
    "                elif (np.abs(z_0+1)<tolerance):\n",
    "                    r_e=1\n",
    "                    break\n",
    "                elif (np.abs(z_0-1/k)<tolerance):\n",
    "                    r_e=2\n",
    "                    break\n",
    "            if i==max_iter-1:\n",
    "                r_e = 3\n",
    "\n",
    "            fila_r.append(r_e)\n",
    "        result_l.append(fila_r)\n",
    "\n",
    "    cmap = mpl.colors.ListedColormap(config['colors'])\n",
    "    plt.imshow(result_l,extent=(config['x_min'], config['x_max'],config['y_min'], config['y_max']), cmap=cmap)\n",
    "    plt.savefig(path_picture,dpi=120)"
   ]
  },
  {
   "cell_type": "code",
   "execution_count": 31,
   "id": "4b80003b",
   "metadata": {
    "scrolled": true
   },
   "outputs": [
    {
     "data": {
      "image/png": "[encoded data removed]",
      "text/plain": [
       "<Figure size 432x288 with 1 Axes>"
      ]
     },
     "metadata": {
      "needs_background": "light"
     },
     "output_type": "display_data"
    }
   ],
   "source": [
    "xreal = np.linspace((config['x_min']), (config['x_max']),int(config['n_pixels']))\n",
    "ximag = np.linspace(config['y_min'], config['y_max'],int(config['n_pixels']))\n",
    "Xreal, Ximag = np.meshgrid(xreal, ximag)\n",
    "X= Xreal+1j*Ximag \n",
    "tolerance = 0.001\n",
    "max_iter=1000\n",
    "f_iter = t_z\n",
    "result_l=list()\n",
    "distinct_colors=set()\n",
    "for fila in X:\n",
    "    fila_r=list()\n",
    "    for elemento in fila:\n",
    "        k=elemento\n",
    "        i=0\n",
    "        z_0=0\n",
    "        r_e=0\n",
    "        for i in range(max_iter):\n",
    "            z_0=f_iter(z_0)\n",
    "            if (np.abs(z_0-1)<tolerance):\n",
    "                distinct_colors.add(0)\n",
    "                r_e=0\n",
    "                break\n",
    "            elif (np.abs(z_0+1)<tolerance):\n",
    "                distinct_colors.add(1)\n",
    "                r_e=1\n",
    "                break\n",
    "            elif (np.abs(z_0-1/k)<tolerance):\n",
    "                distinct_colors.add(2)\n",
    "                r_e=2\n",
    "                break\n",
    "        if i==max_iter-1:\n",
    "            distinct_colors.add(3)\n",
    "            r_e = 3\n",
    "        fila_r.append(r_e)\n",
    "    result_l.append(fila_r)\n",
    "cmap = mpl.colors.ListedColormap(config['colors'])\n",
    "plt.imshow(result_l,extent=(config['x_min'], config['x_max'],config['y_min'], config['y_max']), cmap=cmap)\n",
    "plt.savefig('params_oo_10.jpg',dpi=120)"
   ]
  },
  {
   "cell_type": "code",
   "execution_count": 110,
   "id": "e89108f6",
   "metadata": {},
   "outputs": [
    {
     "name": "stdout",
     "output_type": "stream",
     "text": [
      "{0, 1, 2}\n"
     ]
    }
   ],
   "source": [
    "def getNUms(matrix):\n",
    "    elements=set()\n",
    "    for fila in matrix:\n",
    "        for elem in set(fila):\n",
    "            elements.add(elem)\n",
    "    print(elements)\n",
    "getNUms(result_l)\n",
    "        "
   ]
  },
  {
   "cell_type": "code",
   "execution_count": 17,
   "id": "8f69e4f6",
   "metadata": {},
   "outputs": [
    {
     "name": "stdout",
     "output_type": "stream",
     "text": [
      "[1, 1, 1, 1, 1, 1, 1, 1, 1, 1, 1, 1, 1, 1, 1, 1, 1, 1, 1, 1, 1, 1, 1, 1, 1, 1, 1, 1, 1, 1, 1, 1, 1, 1, 1, 1, 1, 1, 1, 1, 1, 1, 1, 1, 1, 1, 1, 1, 1, 1, 1, 1, 1, 1, 1, 1, 1, 1, 1, 1, 1, 0, 0, 0, 0, 0, 0, 0, 0, 0, 0, 0, 0, 0, 0, 0, 0, 0, 0, 0, 0, 0, 0, 0, 0, 0, 0, 0, 0, 0, 0, 0, 0, 0, 0, 0, 0, 0, 0, 0, 0, 0, 0, 0, 0, 0, 0, 0, 0, 0, 0, 0, 0, 0, 0, 0, 0, 0, 0, 0, 0, 0, 0, 0, 0, 0, 0, 0, 0, 0, 0, 0, 0, 0, 0, 0, 0, 0, 0, 0, 0, 0, 0, 0, 0, 0, 0, 0, 0, 0, 0, 0, 0, 0, 0, 0, 0, 0, 0, 0, 0, 0, 0, 0, 0, 0, 0, 0, 0, 0, 0, 0, 0, 0, 0, 0, 0, 0, 0, 0, 0, 0, 0, 0, 0, 0, 0, 0, 0, 0, 0, 0, 0, 0, 0, 0, 0, 0, 0, 0, 0, 0, 0, 0, 0, 0, 0, 0, 0, 0, 0, 0, 0, 0, 0, 0, 0, 0, 0, 0, 0, 0, 0, 0, 0, 0, 0, 0, 0, 0, 0, 0, 0, 0, 0, 0, 0, 0, 0, 0, 0, 0, 0, 0, 0, 0, 0, 0, 0, 0, 0, 0, 0, 0, 0, 0, 0, 0, 0, 0, 0, 0, 0, 0, 0, 0, 0, 0, 0, 0, 0, 0, 0, 0, 0, 0, 0, 0, 0, 0, 0, 0, 0, 0, 0, 0, 0, 0, 0, 0, 0, 0, 0, 0, 0, 0, 0, 0, 0, 0, 0, 0, 0, 0, 0, 0, 0, 0, 0, 0, 0, 0, 0, 0, 0, 0, 0, 0, 0, 0, 0, 0, 0, 0, 0, 0, 0, 0, 0, 0, 0, 0, 0, 0, 0, 0, 0, 0, 0, 0, 0, 0, 0, 0, 0, 0, 0, 0, 0, 0, 0, 0, 0, 0, 0, 0, 0, 0, 0, 0, 0, 0, 0, 0, 2, 1, 1, 1, 1, 1, 1, 1, 1, 1, 1, 1, 1, 1, 1, 1, 1, 1, 1, 1, 1, 1, 1, 1, 1, 1, 1, 1, 1, 1, 1, 1, 1, 1, 1, 1, 1, 1, 1, 1, 1, 1, 1, 1, 1, 1, 1, 1, 1, 1, 1, 1, 1, 1, 1, 1, 1, 1, 1, 1, 1, 1, 1, 1, 1, 1, 1, 1, 1, 1, 1, 1, 1, 1, 1, 1, 1, 1, 1, 1, 1, 1, 1, 1, 1, 1, 1, 1, 1, 1, 1, 1, 1, 1, 1, 1, 1, 1, 1, 1, 1, 1, 1, 1, 1, 1, 1, 1, 1, 1, 1, 1, 1, 1, 1, 1, 1, 1, 1, 1, 1, 1, 1, 1, 1, 1, 1, 1, 1, 1, 1, 1, 1, 1, 1, 1, 1, 1, 1, 1, 1, 1, 1, 1, 1, 1, 1, 1, 1, 1, 1, 1, 1, 1, 1, 1, 1, 1, 1, 1, 1, 1, 1, 1, 1, 1, 1, 1, 1, 1, 1, 1, 1, 1, 1, 1, 1, 1, 1, 1, 1, 1, 1, 1, 1, 1, 1, 1, 1, 1, 1, 1, 1, 1, 1, 1, 1, 1, 1, 1, 1, 1, 1, 1, 1, 1, 1, 1, 1, 1, 1, 1, 1, 1, 1, 1, 1, 1, 1, 1, 1, 1, 1, 1, 1, 1, 1, 1, 1, 1, 1, 1, 1, 1, 1, 1, 1, 1, 1, 1, 1, 1, 1, 1, 1, 1, 1, 1, 1, 1, 1, 1, 1, 1, 1, 1, 1, 1, 1, 1, 1, 1, 1, 1, 1, 1, 1, 1, 1, 1, 1, 1, 1, 1, 1, 1, 1, 1, 1, 1, 1, 1, 1, 1, 1, 1, 1, 1, 1, 1, 1, 1, 1, 1, 1, 1, 1, 1, 1, 1, 1, 1, 1, 1, 0, 0, 0, 0, 0, 0, 0, 0, 0, 0, 0, 0, 0, 0, 0, 0, 0, 0, 0, 0, 0, 0, 0, 0, 0, 0, 0, 0, 0, 0, 0, 0, 0, 0, 0, 0, 0, 0, 0, 0, 0, 0, 0, 0, 0, 0, 0, 0, 0, 0, 0, 0, 0, 0, 0, 0, 0, 0, 0, 0, 0, 2, 2, 2, 2, 2, 2, 2, 2, 3, 2, 2, 2, 2, 3, 2, 2, 2, 2, 2, 2, 2, 2, 2, 2, 2, 2, 3, 2, 2, 2, 2, 2, 2, 2, 2, 2, 2, 2, 2, 2, 2, 2, 2, 2, 2, 2, 2, 2, 2, 2, 2, 2, 2, 2, 2, 2, 2, 2, 2, 2, 2, 2, 2, 2, 2, 2, 2, 2, 2, 2, 2, 2, 2, 2, 2, 2, 2, 2, 2, 2, 2, 2, 2, 2, 2, 2, 2, 2, 2, 2, 2, 2, 2, 2, 2, 2, 2, 2, 2, 2, 2, 2, 2, 2, 2, 2, 2, 2, 2, 2, 2, 2, 2, 2, 2, 2, 2, 2, 2, 2, 2, 2, 2, 2, 2, 2, 2, 2, 2, 2, 2, 2, 2, 2, 2, 2, 2, 3, 2, 2, 2, 2, 2, 2, 2, 2, 3, 2, 2, 2, 2, 2, 2, 2, 2, 2, 2, 2, 2, 2, 2, 3, 2, 2, 2, 2, 2, 2, 2, 2, 2, 2, 2, 2, 2, 2, 2, 2, 2, 2, 2, 2, 2, 2, 2, 2, 2, 2, 2, 2, 2, 2, 2, 2, 2, 2, 2, 2, 2, 2, 2, 2, 2, 2, 2, 2, 2, 2, 2, 2, 2, 2, 2, 2, 2, 2, 2, 2, 2, 2, 2, 2, 2, 2, 2, 2, 2, 2, 2, 2, 2, 2, 2, 2, 2, 2, 2, 2, 2, 2, 2, 2, 2, 2, 2, 2, 2, 2, 2, 2, 2, 2, 2, 2, 2, 2, 2, 2, 2, 2, 2, 2, 2, 2, 2, 2, 2, 2, 2, 2, 2, 2, 2, 2, 2, 2, 2, 2, 2, 2, 2, 2, 2, 2, 2, 2, 2, 2, 2, 2, 2, 2, 2, 2, 2, 2, 2, 2, 2, 2, 2, 2, 2, 2, 2, 2, 2, 2, 2, 2, 2, 2, 2, 2, 2, 2, 2, 2, 2, 2, 2, 2, 2, 2, 2, 2, 2, 2, 2, 2, 2, 2, 2, 2, 2, 2, 2, 2, 2, 2, 2, 2, 2, 2, 2, 2, 2, 2, 2, 2, 2, 2, 2, 2, 2, 2, 2, 2, 2, 2, 2, 2, 2, 2, 2, 2, 2, 2, 2, 2, 2, 2, 2, 2, 2, 2, 2, 2, 2, 2, 2, 2, 2, 2, 2, 2, 2, 2, 2, 2, 2, 2, 2, 2, 2, 2, 2, 2, 2, 2, 2, 2, 2, 2, 2, 2, 2, 2, 2, 2, 2, 2, 2, 2, 2, 2, 2, 2, 2, 2, 2, 2, 2, 2, 2, 2, 2, 2, 2, 2, 2, 2, 2, 2, 2, 2, 2, 2, 2, 2, 2, 2, 2, 2, 2, 2, 2, 2, 2, 2, 2, 2, 2, 2, 2, 2, 2, 2, 2, 2, 2, 2, 2, 2, 2, 2, 2, 2, 2, 2, 2, 2, 2, 2, 2, 2, 2, 2, 2, 2, 2, 2, 2, 2, 2, 2, 2, 2, 2, 2, 2, 2, 2, 2, 2, 2, 2, 2, 2, 2, 2, 2, 2, 2, 2, 2, 2, 2, 2, 2, 2, 2, 2, 2, 2, 2, 2, 2, 2, 2, 2, 2, 2, 2, 2, 2, 2, 2, 2, 2, 2, 2, 2, 2, 2, 2, 2, 2, 2, 2, 2, 2, 2, 2, 2, 2, 2, 2, 2, 2, 2, 2, 2, 2, 2, 2, 2, 2, 2, 2, 2, 2, 2, 2, 2, 2, 2, 2, 2, 2, 2, 2, 2, 2, 2, 2, 2, 2, 2, 2, 2, 2, 2, 2, 2, 2, 2, 2, 2, 2, 2, 2, 2, 2, 2, 2, 2, 2, 2, 2, 2, 2, 2, 2, 2, 2, 2, 2, 2, 2, 2, 2, 2, 2, 2, 2, 2, 2, 2, 2, 2, 2, 2, 2, 2, 2, 2, 2, 2, 2, 2, 2, 2, 2, 2, 2, 2, 2, 2, 2, 2, 2, 2, 2, 2, 2, 2, 2, 2, 2, 2, 2, 3, 2, 2, 2, 2, 2, 2, 2, 2, 2, 2, 3, 2, 2, 2, 2, 2, 2, 2, 2, 2, 2, 2, 2, 2, 2, 2, 2, 2, 2, 3, 2, 2, 2, 2, 2, 2, 2, 2, 2, 2, 2, 3, 2, 2, 2, 2, 2, 2, 2, 2, 2, 2, 2, 2, 2, 2, 2, 2, 2, 2, 2, 2, 2, 2, 2, 2, 2, 2, 2, 2, 2, 2, 2, 2, 2, 2]\n"
     ]
    }
   ],
   "source": [
    "xreal = np.linspace((config['x_min']), (config['x_max']),int(config['n_pixels']))\n",
    "ximag = np.linspace(config['y_min'], config['y_max'],int(config['n_pixels']))\n",
    "Xreal, Ximag = np.meshgrid(xreal, ximag)\n",
    "X= Xreal+1j*Ximag \n",
    "tolerance = 0.001\n",
    "max_iter=100\n",
    "f_iter = t_z\n",
    "result_l=list()\n",
    "fila = np.linspace(config['y_min'], config['y_max'],int(config['n_pixels']))*1j\n",
    "for elemento in fila:\n",
    "    k=elemento\n",
    "    i=0\n",
    "    z_0=0\n",
    "    r_e=0\n",
    "    for i in range(max_iter):\n",
    "        z_0=f_iter(z_0)\n",
    "        if (np.abs(z_0-1)<tolerance):\n",
    "            r_e=0\n",
    "            break\n",
    "        elif (np.abs(z_0+1)<tolerance):\n",
    "            r_e=1\n",
    "            break\n",
    "        elif (np.abs(z_0-1/k)<tolerance):\n",
    "            r_e=2\n",
    "            break\n",
    "    if i==max_iter-1:\n",
    "        r_e = 3\n",
    "    fila_r.append(r_e)\n",
    "result_l.append(fila_r)\n",
    "print(fila_rr)"
   ]
  },
  {
   "cell_type": "code",
   "execution_count": 32,
   "id": "d7f9546e",
   "metadata": {},
   "outputs": [
    {
     "name": "stdout",
     "output_type": "stream",
     "text": [
      "2\n"
     ]
    }
   ],
   "source": [
    "\n",
    "f_iter = lambda z,k : (3+z**4-4*k*(z+z**3)+2*k**2*(z**2+z**4))/(k+4*z+k*z**2*(-10+4*k*z+z**2))\n",
    "z_0=0\n",
    "r_e=0\n",
    "for i in range(max_iter):\n",
    "    z_0=f_iter(z_0,-20*1j)\n",
    "    if (np.abs(z_0-1)<tolerance):\n",
    "        r_e=0\n",
    "        break\n",
    "    elif (np.abs(z_0+1)<tolerance):\n",
    "        r_e=1\n",
    "        break\n",
    "    elif (np.abs(z_0-1/k)<tolerance):\n",
    "        r_e=2\n",
    "        break\n",
    "if i==max_iter-1:\n",
    "    r_e = 3\n",
    "print(r_e)"
   ]
  },
  {
   "cell_type": "code",
   "execution_count": null,
   "id": "352a54d1",
   "metadata": {},
   "outputs": [],
   "source": []
  }
 ],
 "metadata": {
  "kernelspec": {
   "display_name": "Python 3 (ipykernel)",
   "language": "python",
   "name": "python3"
  },
  "language_info": {
   "codemirror_mode": {
    "name": "ipython",
    "version": 3
   },
   "file_extension": ".py",
   "mimetype": "text/x-python",
   "name": "python",
   "nbconvert_exporter": "python",
   "pygments_lexer": "ipython3",
   "version": "3.9.7"
  }
 },
 "nbformat": 4,
 "nbformat_minor": 5
}
