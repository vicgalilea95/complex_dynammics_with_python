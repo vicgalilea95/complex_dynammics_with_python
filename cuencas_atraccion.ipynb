{
 "cells": [
  {
   "cell_type": "code",
   "execution_count": 1,
   "id": "c4b94bde",
   "metadata": {},
   "outputs": [],
   "source": [
    "import numpy as np\n",
    "from matplotlib import pyplot as plt\n",
    "import matplotlib.pyplot as plt\n",
    "import matplotlib as mpl\n",
    "import json as json\n",
    "import pickle"
   ]
  },
  {
   "cell_type": "code",
   "execution_count": 31,
   "id": "1ab2f329",
   "metadata": {},
   "outputs": [],
   "source": [
    "f_iter = lambda z, n : ((n*z)/(z**n+n-1))"
   ]
  },
  {
   "cell_type": "code",
   "execution_count": null,
   "id": "bdec692f",
   "metadata": {},
   "outputs": [],
   "source": [
    "max_radio=10\n",
    "for n in range(2,9):\n",
    "\n",
    "    coefficients=list(np.zeros(n-1))\n",
    "    coefficients.append(-1)\n",
    "    coefficients.insert(0,1)\n",
    "    \n",
    "    roots=list(np.roots(coefficients))\n",
    "    colors = list(mcolors.TABLEAU_COLORS.keys())[:n]\n",
    "    n_pixels=3**7\n",
    "    xreal = np.linspace(-max_radio, max_radio,n_pixels)\n",
    "    ximag = np.linspace(-max_radio, max_radio,n_pixels)\n",
    "    Xreal, Ximag = np.meshgrid(xreal, ximag)\n",
    "    X= Xreal+1j*Ximag \n",
    "    tolerance = 0.001\n",
    "    max_iter=100\n",
    "    result_l=list()\n",
    "    for fila in X:\n",
    "        fila_r=list()\n",
    "        for elemento in fila:\n",
    "            z_0=elemento\n",
    "            for i in range(max_iter):\n",
    "                z_0=f_iter(z_0,n)\n",
    "                for root in roots:\n",
    "                    condicion=False\n",
    "                    if (np.abs(z_0-root)<tolerance):\n",
    "                        r_e=roots.index(root)\n",
    "                        condicion=True\n",
    "                        break\n",
    "                if condicion:\n",
    "                    break\n",
    "            fila_r.append(r_e)\n",
    "        result_l.append(fila_r)\n",
    "    cmap = mpl.colors.ListedColormap(colors)\n",
    "    plt.imshow(result_l,extent=(-max_radio, max_radio,-max_radio, max_radio), cmap=cmap)\n",
    "    \n",
    "    plt.savefig(f'roots_of_unity/cuenca_n_{n}_new.jpg',dpi=120, bbox_inches='tight')"
   ]
  },
  {
   "cell_type": "code",
   "execution_count": 16,
   "id": "e89108f6",
   "metadata": {},
   "outputs": [
    {
     "data": {
      "image/png": "[encoded data removed]",
      "text/plain": [
       "<Figure size 432x288 with 2 Axes>"
      ]
     },
     "metadata": {
      "needs_background": "light"
     },
     "output_type": "display_data"
    }
   ],
   "source": [
    "import matplotlib.pyplot as plt\n",
    "import matplotlib.colors as mcolors\n",
    "\n",
    "n = 5  # Número de colores que deseas\n",
    "\n",
    "# Generar una lista de n colores diferentes\n",
    "colores = list(mcolors.TABLEAU_COLORS.keys())[:n]\n",
    "\n",
    "# Crear un colormap utilizando los colores\n",
    "cmap = mcolors.ListedColormap(colores)\n",
    "\n",
    "# Ejemplo de uso del colormap en un gráfico\n",
    "x = range(10)\n",
    "y = range(10)\n",
    "\n",
    "plt.scatter(x, y, c=range(10), cmap=cmap)\n",
    "plt.colorbar()\n",
    "\n",
    "plt.show()"
   ]
  },
  {
   "cell_type": "code",
   "execution_count": null,
   "id": "6a5897e8",
   "metadata": {},
   "outputs": [],
   "source": []
  }
 ],
 "metadata": {
  "kernelspec": {
   "display_name": "Python 3 (ipykernel)",
   "language": "python",
   "name": "python3"
  },
  "language_info": {
   "codemirror_mode": {
    "name": "ipython",
    "version": 3
   },
   "file_extension": ".py",
   "mimetype": "text/x-python",
   "name": "python",
   "nbconvert_exporter": "python",
   "pygments_lexer": "ipython3",
   "version": "3.9.7"
  }
 },
 "nbformat": 4,
 "nbformat_minor": 5
}
